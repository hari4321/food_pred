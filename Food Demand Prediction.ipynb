{
 "cells": [
  {
   "cell_type": "markdown",
   "id": "a252db88",
   "metadata": {},
   "source": [
    "# Food Demand Prediction"
   ]
  },
  {
   "cell_type": "markdown",
   "id": "31a849f2",
   "metadata": {},
   "source": [
    "### Exploratory Data Analysis"
   ]
  },
  {
   "cell_type": "markdown",
   "id": "d05fea88",
   "metadata": {},
   "source": [
    "Importing dependencies"
   ]
  },
  {
   "cell_type": "code",
   "execution_count": 1,
   "id": "f6211119",
   "metadata": {},
   "outputs": [],
   "source": [
    "import pandas as pd\n",
    "import matplotlib.pyplot as plt"
   ]
  },
  {
   "cell_type": "markdown",
   "id": "4f71630f",
   "metadata": {},
   "source": [
    "Reading the csv file"
   ]
  },
  {
   "cell_type": "code",
   "execution_count": 2,
   "id": "db9f4425",
   "metadata": {},
   "outputs": [],
   "source": [
    "df=pd.read_csv('Food demand.csv')"
   ]
  },
  {
   "cell_type": "markdown",
   "id": "25ad66d1",
   "metadata": {},
   "source": [
    "First 5 values in the dataset"
   ]
  },
  {
   "cell_type": "code",
   "execution_count": 3,
   "id": "c7343457",
   "metadata": {},
   "outputs": [
    {
     "data": {
      "text/html": [
       "<div>\n",
       "<style scoped>\n",
       "    .dataframe tbody tr th:only-of-type {\n",
       "        vertical-align: middle;\n",
       "    }\n",
       "\n",
       "    .dataframe tbody tr th {\n",
       "        vertical-align: top;\n",
       "    }\n",
       "\n",
       "    .dataframe thead th {\n",
       "        text-align: right;\n",
       "    }\n",
       "</style>\n",
       "<table border=\"1\" class=\"dataframe\">\n",
       "  <thead>\n",
       "    <tr style=\"text-align: right;\">\n",
       "      <th></th>\n",
       "      <th>id</th>\n",
       "      <th>week</th>\n",
       "      <th>center_id</th>\n",
       "      <th>meal_id</th>\n",
       "      <th>checkout_price</th>\n",
       "      <th>base_price</th>\n",
       "      <th>emailer_for_promotion</th>\n",
       "      <th>homepage_featured</th>\n",
       "      <th>num_orders</th>\n",
       "    </tr>\n",
       "  </thead>\n",
       "  <tbody>\n",
       "    <tr>\n",
       "      <th>0</th>\n",
       "      <td>1000000</td>\n",
       "      <td>3</td>\n",
       "      <td>157</td>\n",
       "      <td>2760</td>\n",
       "      <td>233.83</td>\n",
       "      <td>231.83</td>\n",
       "      <td>0</td>\n",
       "      <td>0</td>\n",
       "      <td>149</td>\n",
       "    </tr>\n",
       "    <tr>\n",
       "      <th>1</th>\n",
       "      <td>1000001</td>\n",
       "      <td>100</td>\n",
       "      <td>104</td>\n",
       "      <td>2956</td>\n",
       "      <td>486.03</td>\n",
       "      <td>583.03</td>\n",
       "      <td>0</td>\n",
       "      <td>0</td>\n",
       "      <td>161</td>\n",
       "    </tr>\n",
       "    <tr>\n",
       "      <th>2</th>\n",
       "      <td>1000002</td>\n",
       "      <td>143</td>\n",
       "      <td>75</td>\n",
       "      <td>1971</td>\n",
       "      <td>328.86</td>\n",
       "      <td>327.86</td>\n",
       "      <td>0</td>\n",
       "      <td>0</td>\n",
       "      <td>149</td>\n",
       "    </tr>\n",
       "    <tr>\n",
       "      <th>3</th>\n",
       "      <td>1000003</td>\n",
       "      <td>41</td>\n",
       "      <td>24</td>\n",
       "      <td>2539</td>\n",
       "      <td>145.53</td>\n",
       "      <td>145.53</td>\n",
       "      <td>0</td>\n",
       "      <td>0</td>\n",
       "      <td>540</td>\n",
       "    </tr>\n",
       "    <tr>\n",
       "      <th>4</th>\n",
       "      <td>1000004</td>\n",
       "      <td>45</td>\n",
       "      <td>83</td>\n",
       "      <td>2539</td>\n",
       "      <td>95.06</td>\n",
       "      <td>120.34</td>\n",
       "      <td>0</td>\n",
       "      <td>0</td>\n",
       "      <td>271</td>\n",
       "    </tr>\n",
       "  </tbody>\n",
       "</table>\n",
       "</div>"
      ],
      "text/plain": [
       "        id  week  center_id  meal_id  checkout_price  base_price  \\\n",
       "0  1000000     3        157     2760          233.83      231.83   \n",
       "1  1000001   100        104     2956          486.03      583.03   \n",
       "2  1000002   143         75     1971          328.86      327.86   \n",
       "3  1000003    41         24     2539          145.53      145.53   \n",
       "4  1000004    45         83     2539           95.06      120.34   \n",
       "\n",
       "   emailer_for_promotion  homepage_featured  num_orders  \n",
       "0                      0                  0         149  \n",
       "1                      0                  0         161  \n",
       "2                      0                  0         149  \n",
       "3                      0                  0         540  \n",
       "4                      0                  0         271  "
      ]
     },
     "execution_count": 3,
     "metadata": {},
     "output_type": "execute_result"
    }
   ],
   "source": [
    "df.head()"
   ]
  },
  {
   "cell_type": "markdown",
   "id": "f2ae505f",
   "metadata": {},
   "source": [
    "Last 5 values in the dataset"
   ]
  },
  {
   "cell_type": "code",
   "execution_count": 4,
   "id": "86609288",
   "metadata": {},
   "outputs": [
    {
     "data": {
      "text/html": [
       "<div>\n",
       "<style scoped>\n",
       "    .dataframe tbody tr th:only-of-type {\n",
       "        vertical-align: middle;\n",
       "    }\n",
       "\n",
       "    .dataframe tbody tr th {\n",
       "        vertical-align: top;\n",
       "    }\n",
       "\n",
       "    .dataframe thead th {\n",
       "        text-align: right;\n",
       "    }\n",
       "</style>\n",
       "<table border=\"1\" class=\"dataframe\">\n",
       "  <thead>\n",
       "    <tr style=\"text-align: right;\">\n",
       "      <th></th>\n",
       "      <th>id</th>\n",
       "      <th>week</th>\n",
       "      <th>center_id</th>\n",
       "      <th>meal_id</th>\n",
       "      <th>checkout_price</th>\n",
       "      <th>base_price</th>\n",
       "      <th>emailer_for_promotion</th>\n",
       "      <th>homepage_featured</th>\n",
       "      <th>num_orders</th>\n",
       "    </tr>\n",
       "  </thead>\n",
       "  <tbody>\n",
       "    <tr>\n",
       "      <th>1994</th>\n",
       "      <td>1002177</td>\n",
       "      <td>89</td>\n",
       "      <td>72</td>\n",
       "      <td>1311</td>\n",
       "      <td>130.04</td>\n",
       "      <td>177.51</td>\n",
       "      <td>0</td>\n",
       "      <td>0</td>\n",
       "      <td>68</td>\n",
       "    </tr>\n",
       "    <tr>\n",
       "      <th>1995</th>\n",
       "      <td>1002178</td>\n",
       "      <td>24</td>\n",
       "      <td>50</td>\n",
       "      <td>2444</td>\n",
       "      <td>604.31</td>\n",
       "      <td>606.31</td>\n",
       "      <td>0</td>\n",
       "      <td>0</td>\n",
       "      <td>109</td>\n",
       "    </tr>\n",
       "    <tr>\n",
       "      <th>1996</th>\n",
       "      <td>1002179</td>\n",
       "      <td>43</td>\n",
       "      <td>88</td>\n",
       "      <td>1971</td>\n",
       "      <td>291.06</td>\n",
       "      <td>291.06</td>\n",
       "      <td>0</td>\n",
       "      <td>0</td>\n",
       "      <td>366</td>\n",
       "    </tr>\n",
       "    <tr>\n",
       "      <th>1997</th>\n",
       "      <td>1002180</td>\n",
       "      <td>107</td>\n",
       "      <td>58</td>\n",
       "      <td>1543</td>\n",
       "      <td>473.39</td>\n",
       "      <td>473.39</td>\n",
       "      <td>0</td>\n",
       "      <td>1</td>\n",
       "      <td>42</td>\n",
       "    </tr>\n",
       "    <tr>\n",
       "      <th>1998</th>\n",
       "      <td>1002181</td>\n",
       "      <td>105</td>\n",
       "      <td>177</td>\n",
       "      <td>2322</td>\n",
       "      <td>284.27</td>\n",
       "      <td>284.27</td>\n",
       "      <td>0</td>\n",
       "      <td>0</td>\n",
       "      <td>485</td>\n",
       "    </tr>\n",
       "  </tbody>\n",
       "</table>\n",
       "</div>"
      ],
      "text/plain": [
       "           id  week  center_id  meal_id  checkout_price  base_price  \\\n",
       "1994  1002177    89         72     1311          130.04      177.51   \n",
       "1995  1002178    24         50     2444          604.31      606.31   \n",
       "1996  1002179    43         88     1971          291.06      291.06   \n",
       "1997  1002180   107         58     1543          473.39      473.39   \n",
       "1998  1002181   105        177     2322          284.27      284.27   \n",
       "\n",
       "      emailer_for_promotion  homepage_featured  num_orders  \n",
       "1994                      0                  0          68  \n",
       "1995                      0                  0         109  \n",
       "1996                      0                  0         366  \n",
       "1997                      0                  1          42  \n",
       "1998                      0                  0         485  "
      ]
     },
     "execution_count": 4,
     "metadata": {},
     "output_type": "execute_result"
    }
   ],
   "source": [
    "df.tail()"
   ]
  },
  {
   "cell_type": "markdown",
   "id": "72a4c886",
   "metadata": {},
   "source": [
    "Some basic information on the dataset"
   ]
  },
  {
   "cell_type": "code",
   "execution_count": 5,
   "id": "a45d8932",
   "metadata": {},
   "outputs": [
    {
     "name": "stdout",
     "output_type": "stream",
     "text": [
      "<class 'pandas.core.frame.DataFrame'>\n",
      "RangeIndex: 1999 entries, 0 to 1998\n",
      "Data columns (total 9 columns):\n",
      " #   Column                 Non-Null Count  Dtype  \n",
      "---  ------                 --------------  -----  \n",
      " 0   id                     1999 non-null   int64  \n",
      " 1   week                   1999 non-null   int64  \n",
      " 2   center_id              1999 non-null   int64  \n",
      " 3   meal_id                1999 non-null   int64  \n",
      " 4   checkout_price         1999 non-null   float64\n",
      " 5   base_price             1999 non-null   float64\n",
      " 6   emailer_for_promotion  1999 non-null   int64  \n",
      " 7   homepage_featured      1999 non-null   int64  \n",
      " 8   num_orders             1999 non-null   int64  \n",
      "dtypes: float64(2), int64(7)\n",
      "memory usage: 140.7 KB\n"
     ]
    }
   ],
   "source": [
    "df.info()"
   ]
  },
  {
   "cell_type": "markdown",
   "id": "8f62302a",
   "metadata": {},
   "source": [
    "Shape of the dataset"
   ]
  },
  {
   "cell_type": "code",
   "execution_count": 6,
   "id": "e3954e1a",
   "metadata": {},
   "outputs": [
    {
     "data": {
      "text/plain": [
       "(1999, 9)"
      ]
     },
     "execution_count": 6,
     "metadata": {},
     "output_type": "execute_result"
    }
   ],
   "source": [
    "df.shape"
   ]
  },
  {
   "cell_type": "markdown",
   "id": "b4d7da73",
   "metadata": {},
   "source": [
    "Names of the columns in dataset"
   ]
  },
  {
   "cell_type": "code",
   "execution_count": 7,
   "id": "4c27970f",
   "metadata": {},
   "outputs": [
    {
     "data": {
      "text/plain": [
       "Index(['id', 'week', 'center_id', 'meal_id', 'checkout_price', 'base_price',\n",
       "       'emailer_for_promotion', 'homepage_featured', 'num_orders'],\n",
       "      dtype='object')"
      ]
     },
     "execution_count": 7,
     "metadata": {},
     "output_type": "execute_result"
    }
   ],
   "source": [
    "df.columns"
   ]
  },
  {
   "cell_type": "markdown",
   "id": "f12e84d6",
   "metadata": {},
   "source": [
    "The unique values in the dataset"
   ]
  },
  {
   "cell_type": "code",
   "execution_count": 8,
   "id": "d12108bd",
   "metadata": {},
   "outputs": [
    {
     "data": {
      "text/plain": [
       "id                       1999\n",
       "week                      145\n",
       "center_id                  77\n",
       "meal_id                    51\n",
       "checkout_price            642\n",
       "base_price                576\n",
       "emailer_for_promotion       2\n",
       "homepage_featured           2\n",
       "num_orders                255\n",
       "dtype: int64"
      ]
     },
     "execution_count": 8,
     "metadata": {},
     "output_type": "execute_result"
    }
   ],
   "source": [
    "df.nunique()"
   ]
  },
  {
   "cell_type": "markdown",
   "id": "6626a574",
   "metadata": {},
   "source": [
    "Null value count in of each column"
   ]
  },
  {
   "cell_type": "code",
   "execution_count": 9,
   "id": "d658d041",
   "metadata": {},
   "outputs": [
    {
     "data": {
      "text/plain": [
       "id                       0\n",
       "week                     0\n",
       "center_id                0\n",
       "meal_id                  0\n",
       "checkout_price           0\n",
       "base_price               0\n",
       "emailer_for_promotion    0\n",
       "homepage_featured        0\n",
       "num_orders               0\n",
       "dtype: int64"
      ]
     },
     "execution_count": 9,
     "metadata": {},
     "output_type": "execute_result"
    }
   ],
   "source": [
    "df.isnull().sum()"
   ]
  },
  {
   "cell_type": "markdown",
   "id": "45f56db7",
   "metadata": {},
   "source": [
    "### Prediction using SVM"
   ]
  },
  {
   "cell_type": "code",
   "execution_count": 10,
   "id": "ad200c6e",
   "metadata": {},
   "outputs": [],
   "source": [
    "from sklearn import svm\n",
    "from sklearn.model_selection import train_test_split\n",
    "from sklearn.metrics import accuracy_score"
   ]
  },
  {
   "cell_type": "code",
   "execution_count": 11,
   "id": "054a20de",
   "metadata": {},
   "outputs": [],
   "source": [
    "X=df.drop(['id', 'num_orders'], axis=1)\n",
    "y=df['num_orders']"
   ]
  },
  {
   "cell_type": "code",
   "execution_count": 12,
   "id": "cf1e1e1a",
   "metadata": {},
   "outputs": [
    {
     "data": {
      "text/html": [
       "<div>\n",
       "<style scoped>\n",
       "    .dataframe tbody tr th:only-of-type {\n",
       "        vertical-align: middle;\n",
       "    }\n",
       "\n",
       "    .dataframe tbody tr th {\n",
       "        vertical-align: top;\n",
       "    }\n",
       "\n",
       "    .dataframe thead th {\n",
       "        text-align: right;\n",
       "    }\n",
       "</style>\n",
       "<table border=\"1\" class=\"dataframe\">\n",
       "  <thead>\n",
       "    <tr style=\"text-align: right;\">\n",
       "      <th></th>\n",
       "      <th>week</th>\n",
       "      <th>center_id</th>\n",
       "      <th>meal_id</th>\n",
       "      <th>checkout_price</th>\n",
       "      <th>base_price</th>\n",
       "      <th>emailer_for_promotion</th>\n",
       "      <th>homepage_featured</th>\n",
       "    </tr>\n",
       "  </thead>\n",
       "  <tbody>\n",
       "    <tr>\n",
       "      <th>0</th>\n",
       "      <td>3</td>\n",
       "      <td>157</td>\n",
       "      <td>2760</td>\n",
       "      <td>233.83</td>\n",
       "      <td>231.83</td>\n",
       "      <td>0</td>\n",
       "      <td>0</td>\n",
       "    </tr>\n",
       "    <tr>\n",
       "      <th>1</th>\n",
       "      <td>100</td>\n",
       "      <td>104</td>\n",
       "      <td>2956</td>\n",
       "      <td>486.03</td>\n",
       "      <td>583.03</td>\n",
       "      <td>0</td>\n",
       "      <td>0</td>\n",
       "    </tr>\n",
       "    <tr>\n",
       "      <th>2</th>\n",
       "      <td>143</td>\n",
       "      <td>75</td>\n",
       "      <td>1971</td>\n",
       "      <td>328.86</td>\n",
       "      <td>327.86</td>\n",
       "      <td>0</td>\n",
       "      <td>0</td>\n",
       "    </tr>\n",
       "    <tr>\n",
       "      <th>3</th>\n",
       "      <td>41</td>\n",
       "      <td>24</td>\n",
       "      <td>2539</td>\n",
       "      <td>145.53</td>\n",
       "      <td>145.53</td>\n",
       "      <td>0</td>\n",
       "      <td>0</td>\n",
       "    </tr>\n",
       "    <tr>\n",
       "      <th>4</th>\n",
       "      <td>45</td>\n",
       "      <td>83</td>\n",
       "      <td>2539</td>\n",
       "      <td>95.06</td>\n",
       "      <td>120.34</td>\n",
       "      <td>0</td>\n",
       "      <td>0</td>\n",
       "    </tr>\n",
       "  </tbody>\n",
       "</table>\n",
       "</div>"
      ],
      "text/plain": [
       "   week  center_id  meal_id  checkout_price  base_price  \\\n",
       "0     3        157     2760          233.83      231.83   \n",
       "1   100        104     2956          486.03      583.03   \n",
       "2   143         75     1971          328.86      327.86   \n",
       "3    41         24     2539          145.53      145.53   \n",
       "4    45         83     2539           95.06      120.34   \n",
       "\n",
       "   emailer_for_promotion  homepage_featured  \n",
       "0                      0                  0  \n",
       "1                      0                  0  \n",
       "2                      0                  0  \n",
       "3                      0                  0  \n",
       "4                      0                  0  "
      ]
     },
     "execution_count": 12,
     "metadata": {},
     "output_type": "execute_result"
    }
   ],
   "source": [
    "X.head()"
   ]
  },
  {
   "cell_type": "code",
   "execution_count": 13,
   "id": "b7ba0b0e",
   "metadata": {},
   "outputs": [
    {
     "data": {
      "text/plain": [
       "0    149\n",
       "1    161\n",
       "2    149\n",
       "3    540\n",
       "4    271\n",
       "Name: num_orders, dtype: int64"
      ]
     },
     "execution_count": 13,
     "metadata": {},
     "output_type": "execute_result"
    }
   ],
   "source": [
    "y.head()"
   ]
  },
  {
   "cell_type": "code",
   "execution_count": 15,
   "id": "f6f99948",
   "metadata": {},
   "outputs": [],
   "source": [
    "X_train, X_test, Y_train, Y_test= train_test_split(X,y,test_size=0.2)"
   ]
  },
  {
   "cell_type": "code",
   "execution_count": 16,
   "id": "86f34ec6",
   "metadata": {},
   "outputs": [
    {
     "name": "stdout",
     "output_type": "stream",
     "text": [
      "(1999, 7) (1599, 7) (400, 7)\n"
     ]
    }
   ],
   "source": [
    "print(X.shape, X_train.shape,X_test.shape)"
   ]
  },
  {
   "cell_type": "code",
   "execution_count": null,
   "id": "727e3d09",
   "metadata": {},
   "outputs": [],
   "source": [
    "svc = svm.SVC(kernel=\"linear\").fit(X, y)"
   ]
  },
  {
   "cell_type": "code",
   "execution_count": null,
   "id": "65b13d06",
   "metadata": {},
   "outputs": [],
   "source": [
    "print(\"Accuracy: {:.3f}\".format(svc.score(X, y)))"
   ]
  }
 ],
 "metadata": {
  "kernelspec": {
   "display_name": "Python 3",
   "language": "python",
   "name": "python3"
  },
  "language_info": {
   "codemirror_mode": {
    "name": "ipython",
    "version": 3
   },
   "file_extension": ".py",
   "mimetype": "text/x-python",
   "name": "python",
   "nbconvert_exporter": "python",
   "pygments_lexer": "ipython3",
   "version": "3.8.8"
  }
 },
 "nbformat": 4,
 "nbformat_minor": 5
}
