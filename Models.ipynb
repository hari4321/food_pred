{
 "cells": [
  {
   "cell_type": "markdown",
   "id": "a252db88",
   "metadata": {},
   "source": [
    "# Food Demand Prediction"
   ]
  },
  {
   "cell_type": "markdown",
   "id": "31a849f2",
   "metadata": {},
   "source": [
    "### Exploratory Data Analysis"
   ]
  },
  {
   "cell_type": "markdown",
   "id": "d05fea88",
   "metadata": {},
   "source": [
    "Importing dependencies"
   ]
  },
  {
   "cell_type": "code",
   "execution_count": 1,
   "id": "f6211119",
   "metadata": {},
   "outputs": [],
   "source": [
    "import pandas as pd\n",
    "import matplotlib.pyplot as plt"
   ]
  },
  {
   "cell_type": "markdown",
   "id": "4f71630f",
   "metadata": {},
   "source": [
    "Reading the csv file"
   ]
  },
  {
   "cell_type": "code",
   "execution_count": 2,
   "id": "db9f4425",
   "metadata": {},
   "outputs": [],
   "source": [
    "df=pd.read_csv('Food demand.csv')"
   ]
  },
  {
   "cell_type": "markdown",
   "id": "25ad66d1",
   "metadata": {},
   "source": [
    "First 5 values in the dataset"
   ]
  },
  {
   "cell_type": "code",
   "execution_count": 3,
   "id": "c7343457",
   "metadata": {},
   "outputs": [
    {
     "data": {
      "text/html": [
       "<div>\n",
       "<style scoped>\n",
       "    .dataframe tbody tr th:only-of-type {\n",
       "        vertical-align: middle;\n",
       "    }\n",
       "\n",
       "    .dataframe tbody tr th {\n",
       "        vertical-align: top;\n",
       "    }\n",
       "\n",
       "    .dataframe thead th {\n",
       "        text-align: right;\n",
       "    }\n",
       "</style>\n",
       "<table border=\"1\" class=\"dataframe\">\n",
       "  <thead>\n",
       "    <tr style=\"text-align: right;\">\n",
       "      <th></th>\n",
       "      <th>id</th>\n",
       "      <th>week</th>\n",
       "      <th>center_id</th>\n",
       "      <th>meal_id</th>\n",
       "      <th>checkout_price</th>\n",
       "      <th>base_price</th>\n",
       "      <th>emailer_for_promotion</th>\n",
       "      <th>homepage_featured</th>\n",
       "      <th>num_orders</th>\n",
       "    </tr>\n",
       "  </thead>\n",
       "  <tbody>\n",
       "    <tr>\n",
       "      <th>0</th>\n",
       "      <td>1000000</td>\n",
       "      <td>3</td>\n",
       "      <td>157</td>\n",
       "      <td>2760</td>\n",
       "      <td>233.83</td>\n",
       "      <td>231.83</td>\n",
       "      <td>0</td>\n",
       "      <td>0</td>\n",
       "      <td>149</td>\n",
       "    </tr>\n",
       "    <tr>\n",
       "      <th>1</th>\n",
       "      <td>1000001</td>\n",
       "      <td>100</td>\n",
       "      <td>104</td>\n",
       "      <td>2956</td>\n",
       "      <td>486.03</td>\n",
       "      <td>583.03</td>\n",
       "      <td>0</td>\n",
       "      <td>0</td>\n",
       "      <td>161</td>\n",
       "    </tr>\n",
       "    <tr>\n",
       "      <th>2</th>\n",
       "      <td>1000002</td>\n",
       "      <td>143</td>\n",
       "      <td>75</td>\n",
       "      <td>1971</td>\n",
       "      <td>328.86</td>\n",
       "      <td>327.86</td>\n",
       "      <td>0</td>\n",
       "      <td>0</td>\n",
       "      <td>149</td>\n",
       "    </tr>\n",
       "    <tr>\n",
       "      <th>3</th>\n",
       "      <td>1000003</td>\n",
       "      <td>41</td>\n",
       "      <td>24</td>\n",
       "      <td>2539</td>\n",
       "      <td>145.53</td>\n",
       "      <td>145.53</td>\n",
       "      <td>0</td>\n",
       "      <td>0</td>\n",
       "      <td>540</td>\n",
       "    </tr>\n",
       "    <tr>\n",
       "      <th>4</th>\n",
       "      <td>1000004</td>\n",
       "      <td>45</td>\n",
       "      <td>83</td>\n",
       "      <td>2539</td>\n",
       "      <td>95.06</td>\n",
       "      <td>120.34</td>\n",
       "      <td>0</td>\n",
       "      <td>0</td>\n",
       "      <td>271</td>\n",
       "    </tr>\n",
       "  </tbody>\n",
       "</table>\n",
       "</div>"
      ],
      "text/plain": [
       "        id  week  center_id  meal_id  checkout_price  base_price  \\\n",
       "0  1000000     3        157     2760          233.83      231.83   \n",
       "1  1000001   100        104     2956          486.03      583.03   \n",
       "2  1000002   143         75     1971          328.86      327.86   \n",
       "3  1000003    41         24     2539          145.53      145.53   \n",
       "4  1000004    45         83     2539           95.06      120.34   \n",
       "\n",
       "   emailer_for_promotion  homepage_featured  num_orders  \n",
       "0                      0                  0         149  \n",
       "1                      0                  0         161  \n",
       "2                      0                  0         149  \n",
       "3                      0                  0         540  \n",
       "4                      0                  0         271  "
      ]
     },
     "execution_count": 3,
     "metadata": {},
     "output_type": "execute_result"
    }
   ],
   "source": [
    "df.head()"
   ]
  },
  {
   "cell_type": "markdown",
   "id": "f2ae505f",
   "metadata": {},
   "source": [
    "Last 5 values in the dataset"
   ]
  },
  {
   "cell_type": "code",
   "execution_count": 4,
   "id": "86609288",
   "metadata": {},
   "outputs": [
    {
     "data": {
      "text/html": [
       "<div>\n",
       "<style scoped>\n",
       "    .dataframe tbody tr th:only-of-type {\n",
       "        vertical-align: middle;\n",
       "    }\n",
       "\n",
       "    .dataframe tbody tr th {\n",
       "        vertical-align: top;\n",
       "    }\n",
       "\n",
       "    .dataframe thead th {\n",
       "        text-align: right;\n",
       "    }\n",
       "</style>\n",
       "<table border=\"1\" class=\"dataframe\">\n",
       "  <thead>\n",
       "    <tr style=\"text-align: right;\">\n",
       "      <th></th>\n",
       "      <th>id</th>\n",
       "      <th>week</th>\n",
       "      <th>center_id</th>\n",
       "      <th>meal_id</th>\n",
       "      <th>checkout_price</th>\n",
       "      <th>base_price</th>\n",
       "      <th>emailer_for_promotion</th>\n",
       "      <th>homepage_featured</th>\n",
       "      <th>num_orders</th>\n",
       "    </tr>\n",
       "  </thead>\n",
       "  <tbody>\n",
       "    <tr>\n",
       "      <th>1994</th>\n",
       "      <td>1002177</td>\n",
       "      <td>89</td>\n",
       "      <td>72</td>\n",
       "      <td>1311</td>\n",
       "      <td>130.04</td>\n",
       "      <td>177.51</td>\n",
       "      <td>0</td>\n",
       "      <td>0</td>\n",
       "      <td>68</td>\n",
       "    </tr>\n",
       "    <tr>\n",
       "      <th>1995</th>\n",
       "      <td>1002178</td>\n",
       "      <td>24</td>\n",
       "      <td>50</td>\n",
       "      <td>2444</td>\n",
       "      <td>604.31</td>\n",
       "      <td>606.31</td>\n",
       "      <td>0</td>\n",
       "      <td>0</td>\n",
       "      <td>109</td>\n",
       "    </tr>\n",
       "    <tr>\n",
       "      <th>1996</th>\n",
       "      <td>1002179</td>\n",
       "      <td>43</td>\n",
       "      <td>88</td>\n",
       "      <td>1971</td>\n",
       "      <td>291.06</td>\n",
       "      <td>291.06</td>\n",
       "      <td>0</td>\n",
       "      <td>0</td>\n",
       "      <td>366</td>\n",
       "    </tr>\n",
       "    <tr>\n",
       "      <th>1997</th>\n",
       "      <td>1002180</td>\n",
       "      <td>107</td>\n",
       "      <td>58</td>\n",
       "      <td>1543</td>\n",
       "      <td>473.39</td>\n",
       "      <td>473.39</td>\n",
       "      <td>0</td>\n",
       "      <td>1</td>\n",
       "      <td>42</td>\n",
       "    </tr>\n",
       "    <tr>\n",
       "      <th>1998</th>\n",
       "      <td>1002181</td>\n",
       "      <td>105</td>\n",
       "      <td>177</td>\n",
       "      <td>2322</td>\n",
       "      <td>284.27</td>\n",
       "      <td>284.27</td>\n",
       "      <td>0</td>\n",
       "      <td>0</td>\n",
       "      <td>485</td>\n",
       "    </tr>\n",
       "  </tbody>\n",
       "</table>\n",
       "</div>"
      ],
      "text/plain": [
       "           id  week  center_id  meal_id  checkout_price  base_price  \\\n",
       "1994  1002177    89         72     1311          130.04      177.51   \n",
       "1995  1002178    24         50     2444          604.31      606.31   \n",
       "1996  1002179    43         88     1971          291.06      291.06   \n",
       "1997  1002180   107         58     1543          473.39      473.39   \n",
       "1998  1002181   105        177     2322          284.27      284.27   \n",
       "\n",
       "      emailer_for_promotion  homepage_featured  num_orders  \n",
       "1994                      0                  0          68  \n",
       "1995                      0                  0         109  \n",
       "1996                      0                  0         366  \n",
       "1997                      0                  1          42  \n",
       "1998                      0                  0         485  "
      ]
     },
     "execution_count": 4,
     "metadata": {},
     "output_type": "execute_result"
    }
   ],
   "source": [
    "df.tail()"
   ]
  },
  {
   "cell_type": "markdown",
   "id": "72a4c886",
   "metadata": {},
   "source": [
    "Some basic information on the dataset"
   ]
  },
  {
   "cell_type": "code",
   "execution_count": 5,
   "id": "a45d8932",
   "metadata": {},
   "outputs": [
    {
     "name": "stdout",
     "output_type": "stream",
     "text": [
      "<class 'pandas.core.frame.DataFrame'>\n",
      "RangeIndex: 1999 entries, 0 to 1998\n",
      "Data columns (total 9 columns):\n",
      " #   Column                 Non-Null Count  Dtype  \n",
      "---  ------                 --------------  -----  \n",
      " 0   id                     1999 non-null   int64  \n",
      " 1   week                   1999 non-null   int64  \n",
      " 2   center_id              1999 non-null   int64  \n",
      " 3   meal_id                1999 non-null   int64  \n",
      " 4   checkout_price         1999 non-null   float64\n",
      " 5   base_price             1999 non-null   float64\n",
      " 6   emailer_for_promotion  1999 non-null   int64  \n",
      " 7   homepage_featured      1999 non-null   int64  \n",
      " 8   num_orders             1999 non-null   int64  \n",
      "dtypes: float64(2), int64(7)\n",
      "memory usage: 140.7 KB\n"
     ]
    }
   ],
   "source": [
    "df.info()"
   ]
  },
  {
   "cell_type": "markdown",
   "id": "8f62302a",
   "metadata": {},
   "source": [
    "Shape of the dataset"
   ]
  },
  {
   "cell_type": "code",
   "execution_count": 6,
   "id": "e3954e1a",
   "metadata": {},
   "outputs": [
    {
     "data": {
      "text/plain": [
       "(1999, 9)"
      ]
     },
     "execution_count": 6,
     "metadata": {},
     "output_type": "execute_result"
    }
   ],
   "source": [
    "df.shape"
   ]
  },
  {
   "cell_type": "markdown",
   "id": "b4d7da73",
   "metadata": {},
   "source": [
    "Names of the columns in dataset"
   ]
  },
  {
   "cell_type": "code",
   "execution_count": 7,
   "id": "4c27970f",
   "metadata": {},
   "outputs": [
    {
     "data": {
      "text/plain": [
       "Index(['id', 'week', 'center_id', 'meal_id', 'checkout_price', 'base_price',\n",
       "       'emailer_for_promotion', 'homepage_featured', 'num_orders'],\n",
       "      dtype='object')"
      ]
     },
     "execution_count": 7,
     "metadata": {},
     "output_type": "execute_result"
    }
   ],
   "source": [
    "df.columns"
   ]
  },
  {
   "cell_type": "markdown",
   "id": "f12e84d6",
   "metadata": {},
   "source": [
    "The unique values in the dataset"
   ]
  },
  {
   "cell_type": "code",
   "execution_count": 8,
   "id": "d12108bd",
   "metadata": {},
   "outputs": [
    {
     "data": {
      "text/plain": [
       "id                       1999\n",
       "week                      145\n",
       "center_id                  77\n",
       "meal_id                    51\n",
       "checkout_price            642\n",
       "base_price                576\n",
       "emailer_for_promotion       2\n",
       "homepage_featured           2\n",
       "num_orders                255\n",
       "dtype: int64"
      ]
     },
     "execution_count": 8,
     "metadata": {},
     "output_type": "execute_result"
    }
   ],
   "source": [
    "df.nunique()"
   ]
  },
  {
   "cell_type": "markdown",
   "id": "6626a574",
   "metadata": {},
   "source": [
    "Null value count in of each column"
   ]
  },
  {
   "cell_type": "code",
   "execution_count": 9,
   "id": "d658d041",
   "metadata": {},
   "outputs": [
    {
     "data": {
      "text/plain": [
       "id                       0\n",
       "week                     0\n",
       "center_id                0\n",
       "meal_id                  0\n",
       "checkout_price           0\n",
       "base_price               0\n",
       "emailer_for_promotion    0\n",
       "homepage_featured        0\n",
       "num_orders               0\n",
       "dtype: int64"
      ]
     },
     "execution_count": 9,
     "metadata": {},
     "output_type": "execute_result"
    }
   ],
   "source": [
    "df.isnull().sum()"
   ]
  },
  {
   "cell_type": "markdown",
   "id": "e5ce6a72",
   "metadata": {},
   "source": [
    "### Prediction using Linear regression"
   ]
  },
  {
   "cell_type": "code",
   "execution_count": 10,
   "id": "db381cb9",
   "metadata": {},
   "outputs": [],
   "source": [
    "X=df.drop(['id', 'num_orders'], axis=1)"
   ]
  },
  {
   "cell_type": "code",
   "execution_count": 11,
   "id": "0c5ffed9",
   "metadata": {},
   "outputs": [
    {
     "data": {
      "text/html": [
       "<div>\n",
       "<style scoped>\n",
       "    .dataframe tbody tr th:only-of-type {\n",
       "        vertical-align: middle;\n",
       "    }\n",
       "\n",
       "    .dataframe tbody tr th {\n",
       "        vertical-align: top;\n",
       "    }\n",
       "\n",
       "    .dataframe thead th {\n",
       "        text-align: right;\n",
       "    }\n",
       "</style>\n",
       "<table border=\"1\" class=\"dataframe\">\n",
       "  <thead>\n",
       "    <tr style=\"text-align: right;\">\n",
       "      <th></th>\n",
       "      <th>week</th>\n",
       "      <th>center_id</th>\n",
       "      <th>meal_id</th>\n",
       "      <th>checkout_price</th>\n",
       "      <th>base_price</th>\n",
       "      <th>emailer_for_promotion</th>\n",
       "      <th>homepage_featured</th>\n",
       "    </tr>\n",
       "  </thead>\n",
       "  <tbody>\n",
       "    <tr>\n",
       "      <th>0</th>\n",
       "      <td>3</td>\n",
       "      <td>157</td>\n",
       "      <td>2760</td>\n",
       "      <td>233.83</td>\n",
       "      <td>231.83</td>\n",
       "      <td>0</td>\n",
       "      <td>0</td>\n",
       "    </tr>\n",
       "    <tr>\n",
       "      <th>1</th>\n",
       "      <td>100</td>\n",
       "      <td>104</td>\n",
       "      <td>2956</td>\n",
       "      <td>486.03</td>\n",
       "      <td>583.03</td>\n",
       "      <td>0</td>\n",
       "      <td>0</td>\n",
       "    </tr>\n",
       "    <tr>\n",
       "      <th>2</th>\n",
       "      <td>143</td>\n",
       "      <td>75</td>\n",
       "      <td>1971</td>\n",
       "      <td>328.86</td>\n",
       "      <td>327.86</td>\n",
       "      <td>0</td>\n",
       "      <td>0</td>\n",
       "    </tr>\n",
       "    <tr>\n",
       "      <th>3</th>\n",
       "      <td>41</td>\n",
       "      <td>24</td>\n",
       "      <td>2539</td>\n",
       "      <td>145.53</td>\n",
       "      <td>145.53</td>\n",
       "      <td>0</td>\n",
       "      <td>0</td>\n",
       "    </tr>\n",
       "    <tr>\n",
       "      <th>4</th>\n",
       "      <td>45</td>\n",
       "      <td>83</td>\n",
       "      <td>2539</td>\n",
       "      <td>95.06</td>\n",
       "      <td>120.34</td>\n",
       "      <td>0</td>\n",
       "      <td>0</td>\n",
       "    </tr>\n",
       "  </tbody>\n",
       "</table>\n",
       "</div>"
      ],
      "text/plain": [
       "   week  center_id  meal_id  checkout_price  base_price  \\\n",
       "0     3        157     2760          233.83      231.83   \n",
       "1   100        104     2956          486.03      583.03   \n",
       "2   143         75     1971          328.86      327.86   \n",
       "3    41         24     2539          145.53      145.53   \n",
       "4    45         83     2539           95.06      120.34   \n",
       "\n",
       "   emailer_for_promotion  homepage_featured  \n",
       "0                      0                  0  \n",
       "1                      0                  0  \n",
       "2                      0                  0  \n",
       "3                      0                  0  \n",
       "4                      0                  0  "
      ]
     },
     "execution_count": 11,
     "metadata": {},
     "output_type": "execute_result"
    }
   ],
   "source": [
    "X.head()"
   ]
  },
  {
   "cell_type": "code",
   "execution_count": 12,
   "id": "175b63f1",
   "metadata": {},
   "outputs": [],
   "source": [
    "y=df['num_orders']"
   ]
  },
  {
   "cell_type": "code",
   "execution_count": 13,
   "id": "2f7be0fd",
   "metadata": {},
   "outputs": [
    {
     "data": {
      "text/plain": [
       "0    149\n",
       "1    161\n",
       "2    149\n",
       "3    540\n",
       "4    271\n",
       "Name: num_orders, dtype: int64"
      ]
     },
     "execution_count": 13,
     "metadata": {},
     "output_type": "execute_result"
    }
   ],
   "source": [
    "y.head()"
   ]
  },
  {
   "cell_type": "code",
   "execution_count": 14,
   "id": "d97f3317",
   "metadata": {},
   "outputs": [],
   "source": [
    "from sklearn.model_selection import train_test_split"
   ]
  },
  {
   "cell_type": "code",
   "execution_count": 15,
   "id": "8fb08b84",
   "metadata": {},
   "outputs": [],
   "source": [
    "X_train,X_test,y_train,y_test= train_test_split(X,y,test_size=0.2,random_state=2)"
   ]
  },
  {
   "cell_type": "markdown",
   "id": "9834416b",
   "metadata": {},
   "source": [
    "### Model Training"
   ]
  },
  {
   "cell_type": "markdown",
   "id": "c201a8b2",
   "metadata": {},
   "source": [
    "### Linear regression"
   ]
  },
  {
   "cell_type": "code",
   "execution_count": 16,
   "id": "e5b04949",
   "metadata": {},
   "outputs": [],
   "source": [
    "from sklearn.linear_model import LinearRegression"
   ]
  },
  {
   "cell_type": "code",
   "execution_count": 17,
   "id": "83631ded",
   "metadata": {},
   "outputs": [],
   "source": [
    "lin_model=LinearRegression()"
   ]
  },
  {
   "cell_type": "code",
   "execution_count": 18,
   "id": "d7f6960f",
   "metadata": {},
   "outputs": [
    {
     "data": {
      "text/plain": [
       "LinearRegression()"
      ]
     },
     "execution_count": 18,
     "metadata": {},
     "output_type": "execute_result"
    }
   ],
   "source": [
    "lin_model.fit(X_train,y_train)"
   ]
  },
  {
   "cell_type": "code",
   "execution_count": 19,
   "id": "0c639e76",
   "metadata": {},
   "outputs": [],
   "source": [
    "training_data_prediction=lin_model.predict(X_train)"
   ]
  },
  {
   "cell_type": "markdown",
   "id": "b57de4a7",
   "metadata": {},
   "source": [
    "### Accuracy"
   ]
  },
  {
   "cell_type": "code",
   "execution_count": 20,
   "id": "ca8a968b",
   "metadata": {},
   "outputs": [],
   "source": [
    "from sklearn.metrics import mean_squared_error"
   ]
  },
  {
   "cell_type": "code",
   "execution_count": 21,
   "id": "cfa72db5",
   "metadata": {},
   "outputs": [],
   "source": [
    "rmse = mean_squared_error(y_train, training_data_prediction, squared=False)"
   ]
  },
  {
   "cell_type": "code",
   "execution_count": 22,
   "id": "48e88d25",
   "metadata": {},
   "outputs": [
    {
     "data": {
      "text/plain": [
       "281.91364747245564"
      ]
     },
     "execution_count": 22,
     "metadata": {},
     "output_type": "execute_result"
    }
   ],
   "source": [
    "rmse"
   ]
  },
  {
   "cell_type": "code",
   "execution_count": 23,
   "id": "073237ac",
   "metadata": {},
   "outputs": [],
   "source": [
    "rms = mean_squared_error(y_train, training_data_prediction)"
   ]
  },
  {
   "cell_type": "code",
   "execution_count": 24,
   "id": "c1a2cdbd",
   "metadata": {},
   "outputs": [
    {
     "data": {
      "text/plain": [
       "79475.304631224"
      ]
     },
     "execution_count": 24,
     "metadata": {},
     "output_type": "execute_result"
    }
   ],
   "source": [
    "rms"
   ]
  },
  {
   "cell_type": "code",
   "execution_count": 25,
   "id": "0d70c527",
   "metadata": {},
   "outputs": [],
   "source": [
    "from sklearn.metrics import r2_score"
   ]
  },
  {
   "cell_type": "code",
   "execution_count": 26,
   "id": "20d32728",
   "metadata": {},
   "outputs": [],
   "source": [
    "error_score=r2_score(y_train,training_data_prediction)"
   ]
  },
  {
   "cell_type": "code",
   "execution_count": 27,
   "id": "522c7ed7",
   "metadata": {},
   "outputs": [
    {
     "data": {
      "text/plain": [
       "0.19339512162544814"
      ]
     },
     "execution_count": 27,
     "metadata": {},
     "output_type": "execute_result"
    }
   ],
   "source": [
    "error_score"
   ]
  },
  {
   "cell_type": "markdown",
   "id": "7f8e43f0",
   "metadata": {},
   "source": [
    "### Test Data prediction"
   ]
  },
  {
   "cell_type": "code",
   "execution_count": 28,
   "id": "0c97a215",
   "metadata": {},
   "outputs": [],
   "source": [
    "test_data_prediction = lin_model.predict(X_test)"
   ]
  },
  {
   "cell_type": "code",
   "execution_count": 29,
   "id": "7ef5c04b",
   "metadata": {},
   "outputs": [],
   "source": [
    "rmse=mean_squared_error(y_test,test_data_prediction,squared=False)"
   ]
  },
  {
   "cell_type": "code",
   "execution_count": 30,
   "id": "4c28e931",
   "metadata": {},
   "outputs": [
    {
     "data": {
      "text/plain": [
       "639.7786190386792"
      ]
     },
     "execution_count": 30,
     "metadata": {},
     "output_type": "execute_result"
    }
   ],
   "source": [
    "rmse"
   ]
  },
  {
   "cell_type": "code",
   "execution_count": 31,
   "id": "e1925933",
   "metadata": {},
   "outputs": [],
   "source": [
    "error_score=r2_score(y_test,test_data_prediction)"
   ]
  },
  {
   "cell_type": "code",
   "execution_count": 32,
   "id": "3358bfd5",
   "metadata": {},
   "outputs": [
    {
     "data": {
      "text/plain": [
       "0.11162614899210954"
      ]
     },
     "execution_count": 32,
     "metadata": {},
     "output_type": "execute_result"
    }
   ],
   "source": [
    "error_score"
   ]
  },
  {
   "cell_type": "markdown",
   "id": "bf2064d5",
   "metadata": {},
   "source": [
    "### SGDRegression"
   ]
  },
  {
   "cell_type": "code",
   "execution_count": 33,
   "id": "52d3b7e0",
   "metadata": {},
   "outputs": [],
   "source": [
    "from sklearn.linear_model import SGDRegressor"
   ]
  },
  {
   "cell_type": "code",
   "execution_count": 34,
   "id": "cbcdb29b",
   "metadata": {},
   "outputs": [
    {
     "data": {
      "text/plain": [
       "SGDRegressor()"
      ]
     },
     "execution_count": 34,
     "metadata": {},
     "output_type": "execute_result"
    }
   ],
   "source": [
    "model2=SGDRegressor()\n",
    "model2.fit(X_train,y_train)"
   ]
  },
  {
   "cell_type": "code",
   "execution_count": 35,
   "id": "f6821324",
   "metadata": {},
   "outputs": [],
   "source": [
    "pred2=model2.predict(X_train)"
   ]
  },
  {
   "cell_type": "code",
   "execution_count": 36,
   "id": "55cd5ad8",
   "metadata": {},
   "outputs": [
    {
     "data": {
      "text/plain": [
       "593656961997780.5"
      ]
     },
     "execution_count": 36,
     "metadata": {},
     "output_type": "execute_result"
    }
   ],
   "source": [
    "rmse2 = mean_squared_error(y_train, pred2, squared=False)\n",
    "rmse2"
   ]
  },
  {
   "cell_type": "markdown",
   "id": "f2dc95ac",
   "metadata": {},
   "source": [
    "Testing"
   ]
  },
  {
   "cell_type": "code",
   "execution_count": 37,
   "id": "0883562d",
   "metadata": {},
   "outputs": [
    {
     "data": {
      "text/plain": [
       "1512648224642000.8"
      ]
     },
     "execution_count": 37,
     "metadata": {},
     "output_type": "execute_result"
    }
   ],
   "source": [
    "model2.fit(X_test,y_test)\n",
    "pred_2=model2.predict(X_test)\n",
    "rmse_2 = mean_squared_error(y_test, pred_2, squared=False)\n",
    "rmse_2"
   ]
  },
  {
   "cell_type": "markdown",
   "id": "41b3fc36",
   "metadata": {},
   "source": [
    "### Ridge regression"
   ]
  },
  {
   "cell_type": "code",
   "execution_count": 38,
   "id": "ae622322",
   "metadata": {},
   "outputs": [],
   "source": [
    "from sklearn.linear_model import Ridge\n",
    "model3=Ridge()\n",
    "model3.fit(X_train,y_train)\n",
    "pred3=model3.predict(X_train)\n",
    "rmse3 = mean_squared_error(y_train, pred3, squared=False)\n",
    "\n",
    "model3.fit(X_test,y_test)\n",
    "pred_3=model3.predict(X_test)\n",
    "rmse_3 = mean_squared_error(y_test, pred_3, squared=False)\n"
   ]
  },
  {
   "cell_type": "code",
   "execution_count": 39,
   "id": "99bbf6d8",
   "metadata": {},
   "outputs": [
    {
     "data": {
      "text/plain": [
       "281.9146791999176"
      ]
     },
     "execution_count": 39,
     "metadata": {},
     "output_type": "execute_result"
    }
   ],
   "source": [
    "rmse3"
   ]
  },
  {
   "cell_type": "code",
   "execution_count": 40,
   "id": "b9e5b263",
   "metadata": {},
   "outputs": [
    {
     "data": {
      "text/plain": [
       "625.416381414564"
      ]
     },
     "execution_count": 40,
     "metadata": {},
     "output_type": "execute_result"
    }
   ],
   "source": [
    "rmse_3"
   ]
  },
  {
   "cell_type": "markdown",
   "id": "86879dee",
   "metadata": {},
   "source": [
    "### Lasso regression"
   ]
  },
  {
   "cell_type": "code",
   "execution_count": 41,
   "id": "d7817255",
   "metadata": {},
   "outputs": [],
   "source": [
    "from sklearn.linear_model import Lasso\n",
    "model4=Lasso()\n",
    "model4.fit(X_train,y_train)\n",
    "pred4=model4.predict(X_train)\n",
    "rmse4 = mean_squared_error(y_train, pred4, squared=False)\n",
    "\n",
    "model4.fit(X_test,y_test)\n",
    "pred_4=model4.predict(X_test)\n",
    "rmse_4 = mean_squared_error(y_test, pred_4, squared=False)\n"
   ]
  },
  {
   "cell_type": "code",
   "execution_count": 42,
   "id": "3ee82328",
   "metadata": {},
   "outputs": [
    {
     "data": {
      "text/plain": [
       "281.9592437790801"
      ]
     },
     "execution_count": 42,
     "metadata": {},
     "output_type": "execute_result"
    }
   ],
   "source": [
    "rmse4"
   ]
  },
  {
   "cell_type": "code",
   "execution_count": 43,
   "id": "a8268d01",
   "metadata": {},
   "outputs": [
    {
     "data": {
      "text/plain": [
       "625.4128200883329"
      ]
     },
     "execution_count": 43,
     "metadata": {},
     "output_type": "execute_result"
    }
   ],
   "source": [
    "rmse_4"
   ]
  },
  {
   "cell_type": "markdown",
   "id": "8a3d8f93",
   "metadata": {},
   "source": [
    "### Kernel Ridge"
   ]
  },
  {
   "cell_type": "code",
   "execution_count": 44,
   "id": "c58d9376",
   "metadata": {},
   "outputs": [],
   "source": [
    "from sklearn.kernel_ridge import KernelRidge\n",
    "model5=KernelRidge()\n",
    "model5.fit(X_train,y_train)\n",
    "pred5=model5.predict(X_train)\n",
    "rmse5 = mean_squared_error(y_train, pred5, squared=False)\n",
    "\n",
    "model5.fit(X_test,y_test)\n",
    "pred_5=model5.predict(X_test)\n",
    "rmse_5 = mean_squared_error(y_test, pred_5, squared=False)\n"
   ]
  },
  {
   "cell_type": "code",
   "execution_count": 45,
   "id": "d30f7d8a",
   "metadata": {},
   "outputs": [
    {
     "data": {
      "text/plain": [
       "296.09531964273555"
      ]
     },
     "execution_count": 45,
     "metadata": {},
     "output_type": "execute_result"
    }
   ],
   "source": [
    "rmse5"
   ]
  },
  {
   "cell_type": "code",
   "execution_count": 46,
   "id": "da63330c",
   "metadata": {},
   "outputs": [
    {
     "data": {
      "text/plain": [
       "630.5728084862255"
      ]
     },
     "execution_count": 46,
     "metadata": {},
     "output_type": "execute_result"
    }
   ],
   "source": [
    "rmse_5"
   ]
  },
  {
   "cell_type": "markdown",
   "id": "644b1c97",
   "metadata": {},
   "source": [
    "### ElasticNet"
   ]
  },
  {
   "cell_type": "code",
   "execution_count": 47,
   "id": "f5fb1f40",
   "metadata": {},
   "outputs": [],
   "source": [
    "from sklearn.linear_model import ElasticNet\n",
    "model6=ElasticNet()\n",
    "model6.fit(X_train,y_train)\n",
    "pred6=model6.predict(X_train)\n",
    "rmse6 = mean_squared_error(y_train, pred6, squared=False)\n",
    "\n",
    "model6.fit(X_test,y_test)\n",
    "pred_6=model6.predict(X_test)\n",
    "rmse_6 = mean_squared_error(y_test, pred_6, squared=False)\n"
   ]
  },
  {
   "cell_type": "code",
   "execution_count": 48,
   "id": "97c6bbd1",
   "metadata": {},
   "outputs": [
    {
     "data": {
      "text/plain": [
       "293.07446759885704"
      ]
     },
     "execution_count": 48,
     "metadata": {},
     "output_type": "execute_result"
    }
   ],
   "source": [
    "rmse6"
   ]
  },
  {
   "cell_type": "code",
   "execution_count": 49,
   "id": "6f9ac22d",
   "metadata": {},
   "outputs": [
    {
     "data": {
      "text/plain": [
       "641.0268174914991"
      ]
     },
     "execution_count": 49,
     "metadata": {},
     "output_type": "execute_result"
    }
   ],
   "source": [
    "rmse_6"
   ]
  },
  {
   "cell_type": "markdown",
   "id": "c61801db",
   "metadata": {},
   "source": [
    "### BayesianRidge"
   ]
  },
  {
   "cell_type": "code",
   "execution_count": 50,
   "id": "fbdac07c",
   "metadata": {},
   "outputs": [],
   "source": [
    "from sklearn.linear_model import BayesianRidge\n",
    "model7=BayesianRidge()\n",
    "model7.fit(X_train,y_train)\n",
    "pred7=model7.predict(X_train)\n",
    "rmse7 = mean_squared_error(y_train, pred7, squared=False)\n",
    "\n",
    "model7.fit(X_test,y_test)\n",
    "pred_7=model7.predict(X_test)\n",
    "rmse_7 = mean_squared_error(y_test, pred_7, squared=False)\n"
   ]
  },
  {
   "cell_type": "code",
   "execution_count": 51,
   "id": "1e3c0263",
   "metadata": {},
   "outputs": [
    {
     "data": {
      "text/plain": [
       "296.796568319068"
      ]
     },
     "execution_count": 51,
     "metadata": {},
     "output_type": "execute_result"
    }
   ],
   "source": [
    "rmse7"
   ]
  },
  {
   "cell_type": "code",
   "execution_count": 52,
   "id": "6ef0baec",
   "metadata": {},
   "outputs": [
    {
     "data": {
      "text/plain": [
       "647.6401488727228"
      ]
     },
     "execution_count": 52,
     "metadata": {},
     "output_type": "execute_result"
    }
   ],
   "source": [
    "rmse_7"
   ]
  },
  {
   "cell_type": "markdown",
   "id": "8343d961",
   "metadata": {},
   "source": [
    "### GradientBoostingRegression"
   ]
  },
  {
   "cell_type": "code",
   "execution_count": 53,
   "id": "39712746",
   "metadata": {},
   "outputs": [],
   "source": [
    "from sklearn.ensemble import GradientBoostingRegressor\n",
    "model8=GradientBoostingRegressor()\n",
    "model8.fit(X_train,y_train)\n",
    "pred8=model8.predict(X_train)\n",
    "rmse8 = mean_squared_error(y_train, pred8, squared=False)\n",
    "\n",
    "model8.fit(X_test,y_test)\n",
    "pred_8=model8.predict(X_test)\n",
    "rmse_8 = mean_squared_error(y_test, pred_8, squared=False)\n"
   ]
  },
  {
   "cell_type": "code",
   "execution_count": 54,
   "id": "9f7b86d9",
   "metadata": {},
   "outputs": [
    {
     "data": {
      "text/plain": [
       "182.1213697063297"
      ]
     },
     "execution_count": 54,
     "metadata": {},
     "output_type": "execute_result"
    }
   ],
   "source": [
    "rmse8"
   ]
  },
  {
   "cell_type": "code",
   "execution_count": 55,
   "id": "66adfee0",
   "metadata": {},
   "outputs": [
    {
     "data": {
      "text/plain": [
       "136.11995180600928"
      ]
     },
     "execution_count": 55,
     "metadata": {},
     "output_type": "execute_result"
    }
   ],
   "source": [
    "rmse_8"
   ]
  },
  {
   "cell_type": "markdown",
   "id": "ca103d9b",
   "metadata": {},
   "source": [
    "### Support Vector Machine"
   ]
  },
  {
   "cell_type": "code",
   "execution_count": 56,
   "id": "f77aab26",
   "metadata": {},
   "outputs": [],
   "source": [
    "from sklearn.svm import SVR\n",
    "model9=SVR()\n",
    "model9.fit(X_train,y_train)\n",
    "pred9=model9.predict(X_train)\n",
    "rmse9 = mean_squared_error(y_train, pred9, squared=False)\n",
    "\n",
    "model9.fit(X_test,y_test)\n",
    "pred_9=model9.predict(X_test)\n",
    "rmse_9 = mean_squared_error(y_test, pred_9, squared=False)"
   ]
  },
  {
   "cell_type": "code",
   "execution_count": 57,
   "id": "78d1013c",
   "metadata": {},
   "outputs": [
    {
     "data": {
      "text/plain": [
       "329.9741424522619"
      ]
     },
     "execution_count": 57,
     "metadata": {},
     "output_type": "execute_result"
    }
   ],
   "source": [
    "rmse9"
   ]
  },
  {
   "cell_type": "code",
   "execution_count": 58,
   "id": "da9a8941",
   "metadata": {},
   "outputs": [
    {
     "data": {
      "text/plain": [
       "696.0487794558816"
      ]
     },
     "execution_count": 58,
     "metadata": {},
     "output_type": "execute_result"
    }
   ],
   "source": [
    "rmse_9"
   ]
  },
  {
   "cell_type": "markdown",
   "id": "570e5d0a",
   "metadata": {},
   "source": [
    "### RandomForestRegressor"
   ]
  },
  {
   "cell_type": "code",
   "execution_count": 59,
   "id": "5123d784",
   "metadata": {},
   "outputs": [],
   "source": [
    "from sklearn.ensemble import RandomForestRegressor\n",
    "model10=RandomForestRegressor()\n",
    "model10.fit(X_train,y_train)\n",
    "pred10=model10.predict(X_train)\n",
    "rmse10 = mean_squared_error(y_train, pred10, squared=False)\n",
    "\n",
    "model10.fit(X_test,y_test)\n",
    "pred_10=model10.predict(X_test)\n",
    "rmse_10 = mean_squared_error(y_test, pred_10, squared=False)"
   ]
  },
  {
   "cell_type": "code",
   "execution_count": 60,
   "id": "0a134705",
   "metadata": {},
   "outputs": [
    {
     "data": {
      "text/plain": [
       "91.58499403912039"
      ]
     },
     "execution_count": 60,
     "metadata": {},
     "output_type": "execute_result"
    }
   ],
   "source": [
    "rmse10"
   ]
  },
  {
   "cell_type": "code",
   "execution_count": 61,
   "id": "8ec9a066",
   "metadata": {},
   "outputs": [
    {
     "data": {
      "text/plain": [
       "269.38554946349666"
      ]
     },
     "execution_count": 61,
     "metadata": {},
     "output_type": "execute_result"
    }
   ],
   "source": [
    "rmse_10"
   ]
  },
  {
   "cell_type": "markdown",
   "id": "f41909fb",
   "metadata": {},
   "source": [
    "### DecisionTreeRegressor"
   ]
  },
  {
   "cell_type": "code",
   "execution_count": 62,
   "id": "f3656553",
   "metadata": {},
   "outputs": [],
   "source": [
    "from sklearn.tree import DecisionTreeRegressor\n",
    "model11=RandomForestRegressor()\n",
    "model11.fit(X_train,y_train)\n",
    "pred11=model10.predict(X_train)\n",
    "rmse11 = mean_squared_error(y_train, pred11, squared=False)\n",
    "\n",
    "model11.fit(X_test,y_test)\n",
    "pred_11=model11.predict(X_test)\n",
    "rmse_11 = mean_squared_error(y_test, pred_11, squared=False)"
   ]
  },
  {
   "cell_type": "code",
   "execution_count": 63,
   "id": "974ddafa",
   "metadata": {},
   "outputs": [
    {
     "data": {
      "text/plain": [
       "499.0998798924223"
      ]
     },
     "execution_count": 63,
     "metadata": {},
     "output_type": "execute_result"
    }
   ],
   "source": [
    "rmse11"
   ]
  },
  {
   "cell_type": "code",
   "execution_count": 64,
   "id": "9f302cc8",
   "metadata": {},
   "outputs": [
    {
     "data": {
      "text/plain": [
       "228.48516684677801"
      ]
     },
     "execution_count": 64,
     "metadata": {},
     "output_type": "execute_result"
    }
   ],
   "source": [
    "rmse_11"
   ]
  },
  {
   "cell_type": "markdown",
   "id": "8dd390c3",
   "metadata": {},
   "source": [
    "## Results"
   ]
  },
  {
   "cell_type": "markdown",
   "id": "505278b5",
   "metadata": {},
   "source": [
    "For testing data"
   ]
  },
  {
   "cell_type": "code",
   "execution_count": 65,
   "id": "dc91fc11",
   "metadata": {},
   "outputs": [
    {
     "name": "stdout",
     "output_type": "stream",
     "text": [
      "Model\t\t\tResult(RMSE)\n",
      "LinearRegression\t639.7786190386792\n",
      "SGDRegressor\t\t1512648224642000.8\n",
      "Ridge\t\t\t625.416381414564\n",
      "Lasso\t\t\t625.4128200883329\n",
      "KernelRidge\t\t630.5728084862255\n",
      "ElasticNet\t\t641.0268174914991\n",
      "BayesianRidge\t\t647.6401488727228\n",
      "GradientBoosting\t136.11995180600928\n",
      "SupportVectorMachine\t696.0487794558816\n",
      "RandomForestRegressor\t269.38554946349666\n",
      "DecisionTreeRegressor\t228.48516684677801\n"
     ]
    }
   ],
   "source": [
    "print('Model\\t\\t\\tResult(RMSE)')\n",
    "print('LinearRegression\\t'+str(rmse))\n",
    "print('SGDRegressor\\t\\t'+str(rmse_2))\n",
    "print('Ridge\\t\\t\\t'+str(rmse_3))\n",
    "print('Lasso\\t\\t\\t'+str(rmse_4))\n",
    "print('KernelRidge\\t\\t'+str(rmse_5))\n",
    "print('ElasticNet\\t\\t'+str(rmse_6))\n",
    "print('BayesianRidge\\t\\t'+str(rmse_7))\n",
    "print('GradientBoosting\\t'+str(rmse_8))\n",
    "print('SupportVectorMachine\\t'+str(rmse_9))\n",
    "print('RandomForestRegressor\\t'+str(rmse_10))\n",
    "print('DecisionTreeRegressor\\t'+str(rmse_11))"
   ]
  },
  {
   "cell_type": "code",
   "execution_count": null,
   "id": "968f7534",
   "metadata": {},
   "outputs": [],
   "source": []
  }
 ],
 "metadata": {
  "kernelspec": {
   "display_name": "Python 3",
   "language": "python",
   "name": "python3"
  },
  "language_info": {
   "codemirror_mode": {
    "name": "ipython",
    "version": 3
   },
   "file_extension": ".py",
   "mimetype": "text/x-python",
   "name": "python",
   "nbconvert_exporter": "python",
   "pygments_lexer": "ipython3",
   "version": "3.8.8"
  }
 },
 "nbformat": 4,
 "nbformat_minor": 5
}
